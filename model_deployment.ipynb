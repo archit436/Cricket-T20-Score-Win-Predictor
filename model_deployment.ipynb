{
 "cells": [
  {
   "cell_type": "markdown",
   "id": "116239a2",
   "metadata": {},
   "source": [
    "# Model Deplyoment"
   ]
  },
  {
   "cell_type": "markdown",
   "id": "31895256",
   "metadata": {},
   "source": [
    "## 0. Setup"
   ]
  },
  {
   "cell_type": "code",
   "execution_count": 2,
   "id": "bec552ee",
   "metadata": {},
   "outputs": [],
   "source": [
    "# Start by importing the relevant libraries.\n",
    "import pandas as pd\n",
    "import pickle\n",
    "import numpy as np\n",
    "import warnings\n",
    "warnings.simplefilter(action='ignore', category=pd.errors.SettingWithCopyWarning)"
   ]
  },
  {
   "cell_type": "markdown",
   "id": "dd656a31",
   "metadata": {},
   "source": [
    "## 1. 1st Innings"
   ]
  },
  {
   "cell_type": "code",
   "execution_count": 2,
   "id": "e944d56c",
   "metadata": {},
   "outputs": [],
   "source": [
    "# load the final DataFrame from dataset exported under feature_extraction\n",
    "final_df = pickle.load(open('dataset_level3_first_innings.pkl', 'rb'))"
   ]
  },
  {
   "cell_type": "code",
   "execution_count": 3,
   "id": "34fb3183",
   "metadata": {},
   "outputs": [
    {
     "data": {
      "text/html": [
       "<div>\n",
       "<style scoped>\n",
       "    .dataframe tbody tr th:only-of-type {\n",
       "        vertical-align: middle;\n",
       "    }\n",
       "\n",
       "    .dataframe tbody tr th {\n",
       "        vertical-align: top;\n",
       "    }\n",
       "\n",
       "    .dataframe thead th {\n",
       "        text-align: right;\n",
       "    }\n",
       "</style>\n",
       "<table border=\"1\" class=\"dataframe\">\n",
       "  <thead>\n",
       "    <tr style=\"text-align: right;\">\n",
       "      <th></th>\n",
       "      <th>batting_team</th>\n",
       "      <th>bowling_team</th>\n",
       "      <th>city</th>\n",
       "      <th>current_score</th>\n",
       "      <th>balls_left</th>\n",
       "      <th>wickets_left</th>\n",
       "      <th>crr</th>\n",
       "      <th>last_five</th>\n",
       "      <th>runs_x</th>\n",
       "    </tr>\n",
       "  </thead>\n",
       "  <tbody>\n",
       "    <tr>\n",
       "      <th>22713</th>\n",
       "      <td>Australia</td>\n",
       "      <td>England</td>\n",
       "      <td>Manchester</td>\n",
       "      <td>86</td>\n",
       "      <td>35</td>\n",
       "      <td>7</td>\n",
       "      <td>6.070588</td>\n",
       "      <td>30.0</td>\n",
       "      <td>145</td>\n",
       "    </tr>\n",
       "    <tr>\n",
       "      <th>57953</th>\n",
       "      <td>England</td>\n",
       "      <td>Sri Lanka</td>\n",
       "      <td>Delhi</td>\n",
       "      <td>161</td>\n",
       "      <td>5</td>\n",
       "      <td>7</td>\n",
       "      <td>8.400000</td>\n",
       "      <td>64.0</td>\n",
       "      <td>171</td>\n",
       "    </tr>\n",
       "    <tr>\n",
       "      <th>18502</th>\n",
       "      <td>South Africa</td>\n",
       "      <td>India</td>\n",
       "      <td>Johannesburg</td>\n",
       "      <td>31</td>\n",
       "      <td>86</td>\n",
       "      <td>8</td>\n",
       "      <td>5.470588</td>\n",
       "      <td>29.0</td>\n",
       "      <td>126</td>\n",
       "    </tr>\n",
       "    <tr>\n",
       "      <th>36915</th>\n",
       "      <td>New Zealand</td>\n",
       "      <td>Zimbabwe</td>\n",
       "      <td>Harare</td>\n",
       "      <td>94</td>\n",
       "      <td>65</td>\n",
       "      <td>10</td>\n",
       "      <td>10.254545</td>\n",
       "      <td>52.0</td>\n",
       "      <td>187</td>\n",
       "    </tr>\n",
       "    <tr>\n",
       "      <th>45449</th>\n",
       "      <td>South Africa</td>\n",
       "      <td>Australia</td>\n",
       "      <td>Centurion</td>\n",
       "      <td>90</td>\n",
       "      <td>26</td>\n",
       "      <td>4</td>\n",
       "      <td>5.744681</td>\n",
       "      <td>22.0</td>\n",
       "      <td>128</td>\n",
       "    </tr>\n",
       "    <tr>\n",
       "      <th>...</th>\n",
       "      <td>...</td>\n",
       "      <td>...</td>\n",
       "      <td>...</td>\n",
       "      <td>...</td>\n",
       "      <td>...</td>\n",
       "      <td>...</td>\n",
       "      <td>...</td>\n",
       "      <td>...</td>\n",
       "      <td>...</td>\n",
       "    </tr>\n",
       "    <tr>\n",
       "      <th>44562</th>\n",
       "      <td>South Africa</td>\n",
       "      <td>Sri Lanka</td>\n",
       "      <td>Hambantota</td>\n",
       "      <td>134</td>\n",
       "      <td>6</td>\n",
       "      <td>4</td>\n",
       "      <td>7.052632</td>\n",
       "      <td>43.0</td>\n",
       "      <td>145</td>\n",
       "    </tr>\n",
       "    <tr>\n",
       "      <th>36899</th>\n",
       "      <td>New Zealand</td>\n",
       "      <td>Zimbabwe</td>\n",
       "      <td>Harare</td>\n",
       "      <td>55</td>\n",
       "      <td>81</td>\n",
       "      <td>10</td>\n",
       "      <td>8.461538</td>\n",
       "      <td>37.0</td>\n",
       "      <td>187</td>\n",
       "    </tr>\n",
       "    <tr>\n",
       "      <th>8896</th>\n",
       "      <td>South Africa</td>\n",
       "      <td>Pakistan</td>\n",
       "      <td>Johannesburg</td>\n",
       "      <td>153</td>\n",
       "      <td>9</td>\n",
       "      <td>7</td>\n",
       "      <td>8.270270</td>\n",
       "      <td>53.0</td>\n",
       "      <td>188</td>\n",
       "    </tr>\n",
       "    <tr>\n",
       "      <th>58659</th>\n",
       "      <td>England</td>\n",
       "      <td>West Indies</td>\n",
       "      <td>Kolkata</td>\n",
       "      <td>108</td>\n",
       "      <td>40</td>\n",
       "      <td>6</td>\n",
       "      <td>8.100000</td>\n",
       "      <td>60.0</td>\n",
       "      <td>155</td>\n",
       "    </tr>\n",
       "    <tr>\n",
       "      <th>46933</th>\n",
       "      <td>New Zealand</td>\n",
       "      <td>Sri Lanka</td>\n",
       "      <td>Pallekele</td>\n",
       "      <td>93</td>\n",
       "      <td>33</td>\n",
       "      <td>6</td>\n",
       "      <td>6.413793</td>\n",
       "      <td>37.0</td>\n",
       "      <td>142</td>\n",
       "    </tr>\n",
       "  </tbody>\n",
       "</table>\n",
       "<p>45732 rows × 9 columns</p>\n",
       "</div>"
      ],
      "text/plain": [
       "       batting_team bowling_team          city  current_score  balls_left  \\\n",
       "22713     Australia      England    Manchester             86          35   \n",
       "57953       England    Sri Lanka         Delhi            161           5   \n",
       "18502  South Africa        India  Johannesburg             31          86   \n",
       "36915   New Zealand     Zimbabwe        Harare             94          65   \n",
       "45449  South Africa    Australia     Centurion             90          26   \n",
       "...             ...          ...           ...            ...         ...   \n",
       "44562  South Africa    Sri Lanka    Hambantota            134           6   \n",
       "36899   New Zealand     Zimbabwe        Harare             55          81   \n",
       "8896   South Africa     Pakistan  Johannesburg            153           9   \n",
       "58659       England  West Indies       Kolkata            108          40   \n",
       "46933   New Zealand    Sri Lanka     Pallekele             93          33   \n",
       "\n",
       "       wickets_left        crr  last_five  runs_x  \n",
       "22713             7   6.070588       30.0     145  \n",
       "57953             7   8.400000       64.0     171  \n",
       "18502             8   5.470588       29.0     126  \n",
       "36915            10  10.254545       52.0     187  \n",
       "45449             4   5.744681       22.0     128  \n",
       "...             ...        ...        ...     ...  \n",
       "44562             4   7.052632       43.0     145  \n",
       "36899            10   8.461538       37.0     187  \n",
       "8896              7   8.270270       53.0     188  \n",
       "58659             6   8.100000       60.0     155  \n",
       "46933             6   6.413793       37.0     142  \n",
       "\n",
       "[45732 rows x 9 columns]"
      ]
     },
     "execution_count": 3,
     "metadata": {},
     "output_type": "execute_result"
    }
   ],
   "source": [
    "final_df"
   ]
  },
  {
   "cell_type": "code",
   "execution_count": 13,
   "id": "506fe9b5",
   "metadata": {},
   "outputs": [
    {
     "data": {
      "text/plain": [
       "array(['Manchester', 'Delhi', 'Johannesburg', 'Harare', 'Centurion',\n",
       "       'Barbados', 'Mirpur', 'Wellington', 'Adelaide', 'Dhaka', 'London',\n",
       "       'Southampton', 'Pallekele', 'Lauderhill', 'Kolkata',\n",
       "       'Christchurch', 'Bangalore', 'Chittagong', 'St Kitts', 'Colombo',\n",
       "       'Cardiff', 'Hambantota', 'Melbourne', 'St Lucia', 'Lahore',\n",
       "       'Cape Town', 'Nagpur', 'Sydney', 'Mount Maunganui', 'Abu Dhabi',\n",
       "       'Dubai', 'Sharjah', 'Trinidad', 'Auckland', 'Mumbai', 'Durban',\n",
       "       'Guyana', 'Chandigarh', 'Greater Noida', 'Nottingham', 'Hamilton'],\n",
       "      dtype=object)"
      ]
     },
     "execution_count": 13,
     "metadata": {},
     "output_type": "execute_result"
    }
   ],
   "source": [
    "final_df['city'].unique()"
   ]
  },
  {
   "cell_type": "code",
   "execution_count": 4,
   "id": "cfc541c3",
   "metadata": {},
   "outputs": [],
   "source": [
    "# Split the dataset into training and testing data.\n",
    "# Extract the input.\n",
    "X = final_df.drop(columns = ['runs_x'])\n",
    "# Extract the output.\n",
    "y = final_df['runs_x']\n",
    "from sklearn.model_selection import train_test_split\n",
    "X_train, X_test, y_train, y_test = train_test_split(X,y,test_size=0.2,random_state=1)"
   ]
  },
  {
   "cell_type": "code",
   "execution_count": 5,
   "id": "b1c376f5",
   "metadata": {},
   "outputs": [],
   "source": [
    "# Now we import the relevant classes to deploy our model.\n",
    "\n",
    "# Column Transformer will enable us to apply different preprocessing\n",
    "# transformations to diff subsets of the code. This is useful for us since our \n",
    "# data is a mix of numerical and categorical data.\n",
    "from sklearn.compose import ColumnTransformer\n",
    "\n",
    "# OneHotEncoder converts categorical features into a binary vector format\n",
    "# which is more suitable to be inputted to a model.\n",
    "from sklearn.preprocessing import OneHotEncoder\n",
    "\n",
    "# Pipeline enables the streamlining workflows by creating a sequence of \n",
    "# transformation and estimator steps.\n",
    "from sklearn.pipeline import Pipeline\n",
    "\n",
    "# Standard Scaler normalizes the numerical data to be centred around zero.\n",
    "from sklearn.preprocessing import StandardScaler\n",
    "\n",
    "# RandomForestRegressor is an ensemble learning method. It operates using\n",
    "# multiple decision trees and outputting the average prediction of the trees.\n",
    "# It is called an ensemble method because of this reason - it combines models.\n",
    "from sklearn.ensemble import RandomForestRegressor\n",
    "\n",
    "# XGBRegressor is a gradient boosting algorithm. Gradient boosting is an\n",
    "# ensemble method of building models sequentially - each model corrects the previous one.\n",
    "from xgboost import XGBRegressor\n",
    "\n",
    "# r2_score provides a measure of how well the predictions approximate the real\n",
    "# data points. mean absolute error captures the average magnitude of the errors\n",
    "# in the predictions, regardless of the direction.\n",
    "from sklearn.metrics import r2_score,mean_absolute_error"
   ]
  },
  {
   "cell_type": "code",
   "execution_count": 7,
   "id": "de666014",
   "metadata": {},
   "outputs": [],
   "source": [
    "# The next step is to create a column transformer for the columns with categorical values.\n",
    "# We will be subjecting all three columns to the same transformation - OneHotEncoder.\n",
    "# The other columns are left untouched.\n",
    "trf = ColumnTransformer([\n",
    "    ('trf',OneHotEncoder(sparse_output = False,drop = 'first'),['batting_team', 'bowling_team', 'city'])\n",
    "], remainder = 'passthrough')"
   ]
  },
  {
   "cell_type": "code",
   "execution_count": 8,
   "id": "c1f1f2fe",
   "metadata": {},
   "outputs": [],
   "source": [
    "# We define the pipeline\n",
    "# First step is to apply the transformer defined above to hot encode the categorical values.\n",
    "# Second step is to normalize the feature values - ensures all features are on a similar scale.\n",
    "# Third Step is to train a XGBoost regression model.\n",
    "# XGB Regressor by its design of working with multiple decision trees, captures complex relationships\n",
    "# between the features very well. Being a regressor, it is suitable for a continous target.\n",
    "pipe = Pipeline(steps = [\n",
    "    ('step1', trf),\n",
    "    ('step2', StandardScaler()),\n",
    "    ('step3', XGBRegressor(n_estimator = 1000, learning_rate = 0.2, max_depth = 12, random_state = 1))\n",
    "])"
   ]
  },
  {
   "cell_type": "code",
   "execution_count": 10,
   "id": "26b97888",
   "metadata": {},
   "outputs": [
    {
     "name": "stderr",
     "output_type": "stream",
     "text": [
      "C:\\Users\\Archi\\anaconda3\\envs\\mlGeneral_env\\Lib\\site-packages\\xgboost\\core.py:160: UserWarning: [11:40:04] WARNING: C:\\buildkite-agent\\builds\\buildkite-windows-cpu-autoscaling-group-i-0b3782d1791676daf-1\\xgboost\\xgboost-ci-windows\\src\\learner.cc:742: \n",
      "Parameters: { \"n_estimator\" } are not used.\n",
      "\n",
      "  warnings.warn(smsg, UserWarning)\n"
     ]
    },
    {
     "name": "stdout",
     "output_type": "stream",
     "text": [
      "The R2 Score for the model is:  0.9849\n",
      "The mean absolute error is:  2.1836\n"
     ]
    }
   ],
   "source": [
    "# We train the pipeline define above using our X and y train dataset.\n",
    "# X captures the input, and y has the target variable.\n",
    "pipe.fit(X_train, y_train)\n",
    "# Now we use the trained model to make predictions on the test dataset.\n",
    "y_pred = pipe.predict(X_test)\n",
    "# Print the Accuracy (R2 Score) of the predictions.\n",
    "print(f\"The R2 Score for the model is: {r2_score(y_test, y_pred): .4f}\")\n",
    "# Also print the absolute mean error.\n",
    "print(f\"The mean absolute error is: {mean_absolute_error(y_test,y_pred): .4f}\")"
   ]
  },
  {
   "cell_type": "code",
   "execution_count": 11,
   "id": "552ee0fb",
   "metadata": {},
   "outputs": [],
   "source": [
    "# Pickle dump the model to be used elsewhere in the future, if need be.\n",
    "pickle.dump(pipe, open('pipe_first_innings.pkl', 'wb'))"
   ]
  },
  {
   "cell_type": "markdown",
   "id": "2182283a",
   "metadata": {},
   "source": [
    "## 2. 2nd Innings"
   ]
  },
  {
   "cell_type": "code",
   "execution_count": 3,
   "id": "bddef705",
   "metadata": {
    "scrolled": true
   },
   "outputs": [],
   "source": [
    "# load the final DataFrame from dataset exported under feature_extraction\n",
    "final_df2 = pickle.load(open('dataset_level3_second_innings.pkl', 'rb'))"
   ]
  },
  {
   "cell_type": "code",
   "execution_count": 4,
   "id": "51a971b4",
   "metadata": {
    "scrolled": true
   },
   "outputs": [
    {
     "data": {
      "text/html": [
       "<div>\n",
       "<style scoped>\n",
       "    .dataframe tbody tr th:only-of-type {\n",
       "        vertical-align: middle;\n",
       "    }\n",
       "\n",
       "    .dataframe tbody tr th {\n",
       "        vertical-align: top;\n",
       "    }\n",
       "\n",
       "    .dataframe thead th {\n",
       "        text-align: right;\n",
       "    }\n",
       "</style>\n",
       "<table border=\"1\" class=\"dataframe\">\n",
       "  <thead>\n",
       "    <tr style=\"text-align: right;\">\n",
       "      <th></th>\n",
       "      <th>batting_team</th>\n",
       "      <th>bowling_team</th>\n",
       "      <th>city</th>\n",
       "      <th>current_score</th>\n",
       "      <th>balls_left</th>\n",
       "      <th>wickets_left</th>\n",
       "      <th>crr</th>\n",
       "      <th>last_five</th>\n",
       "      <th>target_score</th>\n",
       "      <th>winner</th>\n",
       "    </tr>\n",
       "  </thead>\n",
       "  <tbody>\n",
       "    <tr>\n",
       "      <th>19950</th>\n",
       "      <td>Bangladesh</td>\n",
       "      <td>Afghanistan</td>\n",
       "      <td>Dhaka</td>\n",
       "      <td>116</td>\n",
       "      <td>14</td>\n",
       "      <td>3</td>\n",
       "      <td>6.566038</td>\n",
       "      <td>28.0</td>\n",
       "      <td>164.0</td>\n",
       "      <td>0</td>\n",
       "    </tr>\n",
       "    <tr>\n",
       "      <th>32088</th>\n",
       "      <td>Ireland</td>\n",
       "      <td>Sri Lanka</td>\n",
       "      <td>London</td>\n",
       "      <td>127</td>\n",
       "      <td>5</td>\n",
       "      <td>4</td>\n",
       "      <td>6.626087</td>\n",
       "      <td>38.0</td>\n",
       "      <td>144.0</td>\n",
       "      <td>0</td>\n",
       "    </tr>\n",
       "    <tr>\n",
       "      <th>6232</th>\n",
       "      <td>New Zealand</td>\n",
       "      <td>India</td>\n",
       "      <td>Delhi</td>\n",
       "      <td>35</td>\n",
       "      <td>81</td>\n",
       "      <td>8</td>\n",
       "      <td>5.384615</td>\n",
       "      <td>28.0</td>\n",
       "      <td>202.0</td>\n",
       "      <td>0</td>\n",
       "    </tr>\n",
       "    <tr>\n",
       "      <th>49128</th>\n",
       "      <td>India</td>\n",
       "      <td>New Zealand</td>\n",
       "      <td>Chennai</td>\n",
       "      <td>92</td>\n",
       "      <td>53</td>\n",
       "      <td>8</td>\n",
       "      <td>8.238806</td>\n",
       "      <td>41.0</td>\n",
       "      <td>167.0</td>\n",
       "      <td>0</td>\n",
       "    </tr>\n",
       "    <tr>\n",
       "      <th>31408</th>\n",
       "      <td>Ireland</td>\n",
       "      <td>New Zealand</td>\n",
       "      <td>Nottingham</td>\n",
       "      <td>109</td>\n",
       "      <td>29</td>\n",
       "      <td>2</td>\n",
       "      <td>7.186813</td>\n",
       "      <td>42.0</td>\n",
       "      <td>198.0</td>\n",
       "      <td>0</td>\n",
       "    </tr>\n",
       "    <tr>\n",
       "      <th>...</th>\n",
       "      <td>...</td>\n",
       "      <td>...</td>\n",
       "      <td>...</td>\n",
       "      <td>...</td>\n",
       "      <td>...</td>\n",
       "      <td>...</td>\n",
       "      <td>...</td>\n",
       "      <td>...</td>\n",
       "      <td>...</td>\n",
       "      <td>...</td>\n",
       "    </tr>\n",
       "    <tr>\n",
       "      <th>56964</th>\n",
       "      <td>New Zealand</td>\n",
       "      <td>Sri Lanka</td>\n",
       "      <td>Chittagong</td>\n",
       "      <td>33</td>\n",
       "      <td>61</td>\n",
       "      <td>4</td>\n",
       "      <td>3.355932</td>\n",
       "      <td>14.0</td>\n",
       "      <td>119.0</td>\n",
       "      <td>0</td>\n",
       "    </tr>\n",
       "    <tr>\n",
       "      <th>47756</th>\n",
       "      <td>Bangladesh</td>\n",
       "      <td>Pakistan</td>\n",
       "      <td>Mirpur</td>\n",
       "      <td>15</td>\n",
       "      <td>87</td>\n",
       "      <td>7</td>\n",
       "      <td>2.727273</td>\n",
       "      <td>14.0</td>\n",
       "      <td>135.0</td>\n",
       "      <td>0</td>\n",
       "    </tr>\n",
       "    <tr>\n",
       "      <th>53620</th>\n",
       "      <td>South Africa</td>\n",
       "      <td>Pakistan</td>\n",
       "      <td>Dubai</td>\n",
       "      <td>45</td>\n",
       "      <td>79</td>\n",
       "      <td>9</td>\n",
       "      <td>6.585366</td>\n",
       "      <td>33.0</td>\n",
       "      <td>99.0</td>\n",
       "      <td>1</td>\n",
       "    </tr>\n",
       "    <tr>\n",
       "      <th>21114</th>\n",
       "      <td>Pakistan</td>\n",
       "      <td>Sri Lanka</td>\n",
       "      <td>Lahore</td>\n",
       "      <td>82</td>\n",
       "      <td>52</td>\n",
       "      <td>5</td>\n",
       "      <td>7.235294</td>\n",
       "      <td>37.0</td>\n",
       "      <td>182.0</td>\n",
       "      <td>0</td>\n",
       "    </tr>\n",
       "    <tr>\n",
       "      <th>856</th>\n",
       "      <td>Bangladesh</td>\n",
       "      <td>New Zealand</td>\n",
       "      <td>Mount Maunganui</td>\n",
       "      <td>64</td>\n",
       "      <td>77</td>\n",
       "      <td>7</td>\n",
       "      <td>8.930233</td>\n",
       "      <td>41.0</td>\n",
       "      <td>195.0</td>\n",
       "      <td>0</td>\n",
       "    </tr>\n",
       "  </tbody>\n",
       "</table>\n",
       "<p>50194 rows × 10 columns</p>\n",
       "</div>"
      ],
      "text/plain": [
       "       batting_team bowling_team             city  current_score  balls_left  \\\n",
       "19950    Bangladesh  Afghanistan            Dhaka            116          14   \n",
       "32088       Ireland    Sri Lanka           London            127           5   \n",
       "6232    New Zealand        India            Delhi             35          81   \n",
       "49128         India  New Zealand          Chennai             92          53   \n",
       "31408       Ireland  New Zealand       Nottingham            109          29   \n",
       "...             ...          ...              ...            ...         ...   \n",
       "56964   New Zealand    Sri Lanka       Chittagong             33          61   \n",
       "47756    Bangladesh     Pakistan           Mirpur             15          87   \n",
       "53620  South Africa     Pakistan            Dubai             45          79   \n",
       "21114      Pakistan    Sri Lanka           Lahore             82          52   \n",
       "856      Bangladesh  New Zealand  Mount Maunganui             64          77   \n",
       "\n",
       "       wickets_left       crr  last_five  target_score  winner  \n",
       "19950             3  6.566038       28.0         164.0       0  \n",
       "32088             4  6.626087       38.0         144.0       0  \n",
       "6232              8  5.384615       28.0         202.0       0  \n",
       "49128             8  8.238806       41.0         167.0       0  \n",
       "31408             2  7.186813       42.0         198.0       0  \n",
       "...             ...       ...        ...           ...     ...  \n",
       "56964             4  3.355932       14.0         119.0       0  \n",
       "47756             7  2.727273       14.0         135.0       0  \n",
       "53620             9  6.585366       33.0          99.0       1  \n",
       "21114             5  7.235294       37.0         182.0       0  \n",
       "856               7  8.930233       41.0         195.0       0  \n",
       "\n",
       "[50194 rows x 10 columns]"
      ]
     },
     "execution_count": 4,
     "metadata": {},
     "output_type": "execute_result"
    }
   ],
   "source": [
    "final_df2"
   ]
  },
  {
   "cell_type": "code",
   "execution_count": 5,
   "id": "54f3ad0a",
   "metadata": {},
   "outputs": [],
   "source": [
    "# Split the dataset into training and testing data.\n",
    "# Extract the input.\n",
    "X = final_df2.drop(columns = ['winner'])\n",
    "# Extract the output.\n",
    "y = final_df2['winner']\n",
    "from sklearn.model_selection import train_test_split\n",
    "X_train, X_test, y_train, y_test = train_test_split(X,y,test_size=0.2,random_state=1)"
   ]
  },
  {
   "cell_type": "code",
   "execution_count": 6,
   "id": "5ea08862",
   "metadata": {},
   "outputs": [],
   "source": [
    "# Import the necessary classes and libraries to deploy the model and test it.\n",
    "from sklearn.compose import ColumnTransformer\n",
    "from sklearn.preprocessing import OneHotEncoder\n",
    "from sklearn.pipeline import Pipeline\n",
    "from sklearn.preprocessing import StandardScaler\n",
    "from sklearn.ensemble import RandomForestClassifier\n",
    "from sklearn.metrics import accuracy_score\n",
    "from sklearn.metrics import precision_score"
   ]
  },
  {
   "cell_type": "code",
   "execution_count": 7,
   "id": "73803718",
   "metadata": {},
   "outputs": [],
   "source": [
    "# The next step is to create a column transformer for the columns with categorical values.\n",
    "# We will be subjecting all three columns to the same transformation - OneHotEncoder.\n",
    "# The other columns are left untouched.\n",
    "trf = ColumnTransformer([\n",
    "    ('trf',OneHotEncoder(sparse_output = False,drop = 'first'),['batting_team', 'bowling_team', 'city'])\n",
    "], remainder = 'passthrough')"
   ]
  },
  {
   "cell_type": "code",
   "execution_count": 8,
   "id": "35c9083b",
   "metadata": {},
   "outputs": [],
   "source": [
    "# We define the pipeline\n",
    "# First step is to apply the transformer defined above to hot encode the categorical values.\n",
    "# Second step is to normalize the feature values - ensures all features are on a similar scale.\n",
    "# Third Step is to train a model.\n",
    "pipe = Pipeline(steps = [\n",
    "    ('step1', trf),\n",
    "    ('step2', StandardScaler()),\n",
    "    ('step3', RandomForestClassifier())\n",
    "])"
   ]
  },
  {
   "cell_type": "code",
   "execution_count": 9,
   "id": "a7859957",
   "metadata": {},
   "outputs": [
    {
     "name": "stdout",
     "output_type": "stream",
     "text": [
      "The Accuracy Score for the model is:  0.9996\n",
      "The Precision Score for the model is:  0.9998\n"
     ]
    }
   ],
   "source": [
    "# We train the pipeline define above using our X and y train dataset.\n",
    "# X captures the input, and y has the target variable.\n",
    "pipe.fit(X_train, y_train)\n",
    "# Now we use the trained model to make predictions on the test dataset.\n",
    "y_prob_pred = pipe.predict_proba(X_test)\n",
    "y_pred = pipe.predict(X_test)\n",
    "# Print the Accuracy of the predictions.\n",
    "print(f\"The Accuracy Score for the model is: {accuracy_score(y_test, y_pred): .4f}\")\n",
    "print(f\"The Precision Score for the model is: {precision_score(y_test, y_pred): .4f}\")"
   ]
  },
  {
   "cell_type": "markdown",
   "id": "1f853846",
   "metadata": {},
   "source": [
    "A(0.8090) and P(0.7982) for Log Reg (default)\n",
    "A(0.9636) and P(0.9549) for XGBClassifier (logloss)\n",
    "A(0.9977) and P(0.9963) for Random Forest Classifier (default)"
   ]
  },
  {
   "cell_type": "code",
   "execution_count": 10,
   "id": "04cd4118",
   "metadata": {},
   "outputs": [
    {
     "data": {
      "text/plain": [
       "array([[1.  , 0.  ],\n",
       "       [0.02, 0.98],\n",
       "       [1.  , 0.  ],\n",
       "       ...,\n",
       "       [0.04, 0.96],\n",
       "       [1.  , 0.  ],\n",
       "       [0.99, 0.01]])"
      ]
     },
     "execution_count": 10,
     "metadata": {},
     "output_type": "execute_result"
    }
   ],
   "source": [
    "y_prob_pred"
   ]
  },
  {
   "cell_type": "code",
   "execution_count": 11,
   "id": "e1fecc15",
   "metadata": {},
   "outputs": [
    {
     "data": {
      "text/plain": [
       "array([0, 1, 0, ..., 1, 0, 0])"
      ]
     },
     "execution_count": 11,
     "metadata": {},
     "output_type": "execute_result"
    }
   ],
   "source": [
    "y_pred"
   ]
  },
  {
   "cell_type": "code",
   "execution_count": 12,
   "id": "c448a947",
   "metadata": {},
   "outputs": [],
   "source": [
    "# Pickle dump the pipeline.\n",
    "pickle.dump(pipe, open('pipe_second_innings.pkl', 'wb'))"
   ]
  },
  {
   "cell_type": "code",
   "execution_count": 14,
   "id": "e1629dc2",
   "metadata": {},
   "outputs": [],
   "source": [
    "input_df = pd.DataFrame({'batting_team': ['South Africa'],\n",
    "                         'bowling_team': ['India'],\n",
    "                         'city': ['Barbados'],\n",
    "                         'current_score': [161],\n",
    "                         'balls_left': [6],\n",
    "                         'wickets_left': [4],\n",
    "                         'crr': [8.47],\n",
    "                         'last_five': [38],\n",
    "                         'target_score': [177]})"
   ]
  },
  {
   "cell_type": "code",
   "execution_count": 18,
   "id": "bca86890",
   "metadata": {},
   "outputs": [],
   "source": [
    "result = pipe.predict_proba(input_df)"
   ]
  },
  {
   "cell_type": "code",
   "execution_count": 23,
   "id": "8a21b1d3",
   "metadata": {},
   "outputs": [
    {
     "data": {
      "text/plain": [
       "0.87"
      ]
     },
     "execution_count": 23,
     "metadata": {},
     "output_type": "execute_result"
    }
   ],
   "source": [
    "result[0][0]*100"
   ]
  }
 ],
 "metadata": {
  "kernelspec": {
   "display_name": "Python 3 (ipykernel)",
   "language": "python",
   "name": "python3"
  },
  "language_info": {
   "codemirror_mode": {
    "name": "ipython",
    "version": 3
   },
   "file_extension": ".py",
   "mimetype": "text/x-python",
   "name": "python",
   "nbconvert_exporter": "python",
   "pygments_lexer": "ipython3",
   "version": "3.11.9"
  }
 },
 "nbformat": 4,
 "nbformat_minor": 5
}
