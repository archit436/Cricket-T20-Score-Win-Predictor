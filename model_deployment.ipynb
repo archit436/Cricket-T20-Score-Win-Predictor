{
 "cells": [
  {
   "cell_type": "markdown",
   "id": "116239a2",
   "metadata": {},
   "source": [
    "# Model Deplyoment"
   ]
  },
  {
   "cell_type": "markdown",
   "id": "31895256",
   "metadata": {},
   "source": [
    "## 0. Setup"
   ]
  },
  {
   "cell_type": "code",
   "execution_count": 1,
   "id": "bec552ee",
   "metadata": {},
   "outputs": [],
   "source": [
    "# Start by importing the relevant libraries.\n",
    "import pandas as pd\n",
    "import pickle\n",
    "import numpy as np\n",
    "import warnings\n",
    "warnings.simplefilter(action='ignore', category=pd.errors.SettingWithCopyWarning)"
   ]
  },
  {
   "cell_type": "markdown",
   "id": "dd656a31",
   "metadata": {},
   "source": [
    "## 1. 1st Innings"
   ]
  },
  {
   "cell_type": "code",
   "execution_count": 2,
   "id": "e944d56c",
   "metadata": {},
   "outputs": [],
   "source": [
    "# load the final DataFrame from dataset exported under feature_extraction\n",
    "final_df = pickle.load(open('dataset_level3_first_innings.pkl', 'rb'))"
   ]
  },
  {
   "cell_type": "code",
   "execution_count": 3,
   "id": "34fb3183",
   "metadata": {},
   "outputs": [
    {
     "data": {
      "text/html": [
       "<div>\n",
       "<style scoped>\n",
       "    .dataframe tbody tr th:only-of-type {\n",
       "        vertical-align: middle;\n",
       "    }\n",
       "\n",
       "    .dataframe tbody tr th {\n",
       "        vertical-align: top;\n",
       "    }\n",
       "\n",
       "    .dataframe thead th {\n",
       "        text-align: right;\n",
       "    }\n",
       "</style>\n",
       "<table border=\"1\" class=\"dataframe\">\n",
       "  <thead>\n",
       "    <tr style=\"text-align: right;\">\n",
       "      <th></th>\n",
       "      <th>batting_team</th>\n",
       "      <th>bowling_team</th>\n",
       "      <th>city</th>\n",
       "      <th>current_score</th>\n",
       "      <th>balls_left</th>\n",
       "      <th>wickets_left</th>\n",
       "      <th>crr</th>\n",
       "      <th>last_five</th>\n",
       "      <th>runs_x</th>\n",
       "    </tr>\n",
       "  </thead>\n",
       "  <tbody>\n",
       "    <tr>\n",
       "      <th>17575</th>\n",
       "      <td>England</td>\n",
       "      <td>Australia</td>\n",
       "      <td>Southampton</td>\n",
       "      <td>117</td>\n",
       "      <td>33</td>\n",
       "      <td>5</td>\n",
       "      <td>8.068966</td>\n",
       "      <td>28.0</td>\n",
       "      <td>179</td>\n",
       "    </tr>\n",
       "    <tr>\n",
       "      <th>19251</th>\n",
       "      <td>England</td>\n",
       "      <td>Zimbabwe</td>\n",
       "      <td>Cape Town</td>\n",
       "      <td>51</td>\n",
       "      <td>89</td>\n",
       "      <td>8</td>\n",
       "      <td>9.870968</td>\n",
       "      <td>49.0</td>\n",
       "      <td>188</td>\n",
       "    </tr>\n",
       "    <tr>\n",
       "      <th>14747</th>\n",
       "      <td>Australia</td>\n",
       "      <td>England</td>\n",
       "      <td>Southampton</td>\n",
       "      <td>109</td>\n",
       "      <td>25</td>\n",
       "      <td>5</td>\n",
       "      <td>6.884211</td>\n",
       "      <td>40.0</td>\n",
       "      <td>157</td>\n",
       "    </tr>\n",
       "    <tr>\n",
       "      <th>25818</th>\n",
       "      <td>South Africa</td>\n",
       "      <td>India</td>\n",
       "      <td>Nottingham</td>\n",
       "      <td>44</td>\n",
       "      <td>91</td>\n",
       "      <td>9</td>\n",
       "      <td>9.103448</td>\n",
       "      <td>44.0</td>\n",
       "      <td>130</td>\n",
       "    </tr>\n",
       "    <tr>\n",
       "      <th>54916</th>\n",
       "      <td>Sri Lanka</td>\n",
       "      <td>West Indies</td>\n",
       "      <td>Pallekele</td>\n",
       "      <td>136</td>\n",
       "      <td>28</td>\n",
       "      <td>8</td>\n",
       "      <td>8.869565</td>\n",
       "      <td>40.0</td>\n",
       "      <td>215</td>\n",
       "    </tr>\n",
       "    <tr>\n",
       "      <th>...</th>\n",
       "      <td>...</td>\n",
       "      <td>...</td>\n",
       "      <td>...</td>\n",
       "      <td>...</td>\n",
       "      <td>...</td>\n",
       "      <td>...</td>\n",
       "      <td>...</td>\n",
       "      <td>...</td>\n",
       "      <td>...</td>\n",
       "    </tr>\n",
       "    <tr>\n",
       "      <th>23629</th>\n",
       "      <td>India</td>\n",
       "      <td>Bangladesh</td>\n",
       "      <td>Nottingham</td>\n",
       "      <td>67</td>\n",
       "      <td>68</td>\n",
       "      <td>9</td>\n",
       "      <td>7.730769</td>\n",
       "      <td>35.0</td>\n",
       "      <td>180</td>\n",
       "    </tr>\n",
       "    <tr>\n",
       "      <th>57548</th>\n",
       "      <td>Australia</td>\n",
       "      <td>Pakistan</td>\n",
       "      <td>Chandigarh</td>\n",
       "      <td>106</td>\n",
       "      <td>41</td>\n",
       "      <td>7</td>\n",
       "      <td>8.050633</td>\n",
       "      <td>42.0</td>\n",
       "      <td>193</td>\n",
       "    </tr>\n",
       "    <tr>\n",
       "      <th>24728</th>\n",
       "      <td>Sri Lanka</td>\n",
       "      <td>Pakistan</td>\n",
       "      <td>London</td>\n",
       "      <td>73</td>\n",
       "      <td>78</td>\n",
       "      <td>10</td>\n",
       "      <td>10.428571</td>\n",
       "      <td>47.0</td>\n",
       "      <td>150</td>\n",
       "    </tr>\n",
       "    <tr>\n",
       "      <th>10773</th>\n",
       "      <td>New Zealand</td>\n",
       "      <td>Sri Lanka</td>\n",
       "      <td>Auckland</td>\n",
       "      <td>128</td>\n",
       "      <td>21</td>\n",
       "      <td>4</td>\n",
       "      <td>7.757576</td>\n",
       "      <td>52.0</td>\n",
       "      <td>179</td>\n",
       "    </tr>\n",
       "    <tr>\n",
       "      <th>35735</th>\n",
       "      <td>Zimbabwe</td>\n",
       "      <td>New Zealand</td>\n",
       "      <td>Hamilton</td>\n",
       "      <td>181</td>\n",
       "      <td>13</td>\n",
       "      <td>8</td>\n",
       "      <td>10.149533</td>\n",
       "      <td>60.0</td>\n",
       "      <td>200</td>\n",
       "    </tr>\n",
       "  </tbody>\n",
       "</table>\n",
       "<p>45732 rows × 9 columns</p>\n",
       "</div>"
      ],
      "text/plain": [
       "       batting_team bowling_team         city  current_score  balls_left  \\\n",
       "17575       England    Australia  Southampton            117          33   \n",
       "19251       England     Zimbabwe    Cape Town             51          89   \n",
       "14747     Australia      England  Southampton            109          25   \n",
       "25818  South Africa        India   Nottingham             44          91   \n",
       "54916     Sri Lanka  West Indies    Pallekele            136          28   \n",
       "...             ...          ...          ...            ...         ...   \n",
       "23629         India   Bangladesh   Nottingham             67          68   \n",
       "57548     Australia     Pakistan   Chandigarh            106          41   \n",
       "24728     Sri Lanka     Pakistan       London             73          78   \n",
       "10773   New Zealand    Sri Lanka     Auckland            128          21   \n",
       "35735      Zimbabwe  New Zealand     Hamilton            181          13   \n",
       "\n",
       "       wickets_left        crr  last_five  runs_x  \n",
       "17575             5   8.068966       28.0     179  \n",
       "19251             8   9.870968       49.0     188  \n",
       "14747             5   6.884211       40.0     157  \n",
       "25818             9   9.103448       44.0     130  \n",
       "54916             8   8.869565       40.0     215  \n",
       "...             ...        ...        ...     ...  \n",
       "23629             9   7.730769       35.0     180  \n",
       "57548             7   8.050633       42.0     193  \n",
       "24728            10  10.428571       47.0     150  \n",
       "10773             4   7.757576       52.0     179  \n",
       "35735             8  10.149533       60.0     200  \n",
       "\n",
       "[45732 rows x 9 columns]"
      ]
     },
     "execution_count": 3,
     "metadata": {},
     "output_type": "execute_result"
    }
   ],
   "source": [
    "final_df"
   ]
  },
  {
   "cell_type": "code",
   "execution_count": 4,
   "id": "506fe9b5",
   "metadata": {},
   "outputs": [
    {
     "data": {
      "text/plain": [
       "array(['Southampton', 'Cape Town', 'Nottingham', 'Pallekele', 'Melbourne',\n",
       "       'Wellington', 'Johannesburg', 'Harare', 'Mumbai', 'Kolkata',\n",
       "       'Hamilton', 'Durban', 'Mount Maunganui', 'Barbados', 'Bangalore',\n",
       "       'Mirpur', 'Dubai', 'London', 'Trinidad', 'Christchurch', 'Colombo',\n",
       "       'Auckland', 'Abu Dhabi', 'Hambantota', 'Lauderhill', 'Manchester',\n",
       "       'Nagpur', 'St Kitts', 'Sharjah', 'Lahore', 'Chandigarh',\n",
       "       'Centurion', 'Sydney', 'St Lucia', 'Dhaka', 'Guyana', 'Chittagong',\n",
       "       'Adelaide', 'Delhi', 'Cardiff', 'Greater Noida'], dtype=object)"
      ]
     },
     "execution_count": 4,
     "metadata": {},
     "output_type": "execute_result"
    }
   ],
   "source": [
    "final_df['city'].unique()"
   ]
  },
  {
   "cell_type": "code",
   "execution_count": 5,
   "id": "cfc541c3",
   "metadata": {},
   "outputs": [],
   "source": [
    "# Split the dataset into training and testing data.\n",
    "# Extract the input.\n",
    "X = final_df.drop(columns = ['runs_x'])\n",
    "# Extract the output.\n",
    "y = final_df['runs_x']\n",
    "from sklearn.model_selection import train_test_split\n",
    "X_train, X_test, y_train, y_test = train_test_split(X,y,test_size=0.2,random_state=1)"
   ]
  },
  {
   "cell_type": "code",
   "execution_count": 5,
   "id": "b1c376f5",
   "metadata": {},
   "outputs": [],
   "source": [
    "# Now we import the relevant classes to deploy our model.\n",
    "\n",
    "# Column Transformer will enable us to apply different preprocessing\n",
    "# transformations to diff subsets of the code. This is useful for us since our \n",
    "# data is a mix of numerical and categorical data.\n",
    "from sklearn.compose import ColumnTransformer\n",
    "\n",
    "# OneHotEncoder converts categorical features into a binary vector format\n",
    "# which is more suitable to be inputted to a model.\n",
    "from sklearn.preprocessing import OneHotEncoder\n",
    "\n",
    "# Pipeline enables the streamlining workflows by creating a sequence of \n",
    "# transformation and estimator steps.\n",
    "from sklearn.pipeline import Pipeline\n",
    "\n",
    "# Standard Scaler normalizes the numerical data to be centred around zero.\n",
    "from sklearn.preprocessing import StandardScaler\n",
    "\n",
    "# RandomForestRegressor is an ensemble learning method. It operates using\n",
    "# multiple decision trees and outputting the average prediction of the trees.\n",
    "# It is called an ensemble method because of this reason - it combines models.\n",
    "from sklearn.ensemble import RandomForestRegressor\n",
    "\n",
    "# XGBRegressor is a gradient boosting algorithm. Gradient boosting is an\n",
    "# ensemble method of building models sequentially - each model corrects the previous one.\n",
    "from xgboost import XGBRegressor\n",
    "\n",
    "# r2_score provides a measure of how well the predictions approximate the real\n",
    "# data points. mean absolute error captures the average magnitude of the errors\n",
    "# in the predictions, regardless of the direction.\n",
    "from sklearn.metrics import r2_score,mean_absolute_error"
   ]
  },
  {
   "cell_type": "code",
   "execution_count": 7,
   "id": "de666014",
   "metadata": {},
   "outputs": [],
   "source": [
    "# The next step is to create a column transformer for the columns with categorical values.\n",
    "# We will be subjecting all three columns to the same transformation - OneHotEncoder.\n",
    "# The other columns are left untouched.\n",
    "trf = ColumnTransformer([\n",
    "    ('trf',OneHotEncoder(sparse_output = False,drop = 'first'),['batting_team', 'bowling_team', 'city'])\n",
    "], remainder = 'passthrough')"
   ]
  },
  {
   "cell_type": "code",
   "execution_count": 8,
   "id": "c1f1f2fe",
   "metadata": {},
   "outputs": [],
   "source": [
    "# We define the pipeline\n",
    "# First step is to apply the transformer defined above to hot encode the categorical values.\n",
    "# Second step is to normalize the feature values - ensures all features are on a similar scale.\n",
    "# Third Step is to train a XGBoost regression model.\n",
    "# XGB Regressor by its design of working with multiple decision trees, captures complex relationships\n",
    "# between the features very well. Being a regressor, it is suitable for a continous target.\n",
    "pipe = Pipeline(steps = [\n",
    "    ('step1', trf),\n",
    "    ('step2', StandardScaler()),\n",
    "    ('step3', XGBRegressor(n_estimator = 1000, learning_rate = 0.2, max_depth = 12, random_state = 1))\n",
    "])"
   ]
  },
  {
   "cell_type": "code",
   "execution_count": 10,
   "id": "26b97888",
   "metadata": {},
   "outputs": [
    {
     "name": "stderr",
     "output_type": "stream",
     "text": [
      "C:\\Users\\Archi\\anaconda3\\envs\\mlGeneral_env\\Lib\\site-packages\\xgboost\\core.py:160: UserWarning: [11:40:04] WARNING: C:\\buildkite-agent\\builds\\buildkite-windows-cpu-autoscaling-group-i-0b3782d1791676daf-1\\xgboost\\xgboost-ci-windows\\src\\learner.cc:742: \n",
      "Parameters: { \"n_estimator\" } are not used.\n",
      "\n",
      "  warnings.warn(smsg, UserWarning)\n"
     ]
    },
    {
     "name": "stdout",
     "output_type": "stream",
     "text": [
      "The R2 Score for the model is:  0.9849\n",
      "The mean absolute error is:  2.1836\n"
     ]
    }
   ],
   "source": [
    "# We train the pipeline define above using our X and y train dataset.\n",
    "# X captures the input, and y has the target variable.\n",
    "pipe.fit(X_train, y_train)\n",
    "# Now we use the trained model to make predictions on the test dataset.\n",
    "y_pred = pipe.predict(X_test)\n",
    "# Print the Accuracy (R2 Score) of the predictions.\n",
    "print(f\"The R2 Score for the model is: {r2_score(y_test, y_pred): .4f}\")\n",
    "# Also print the absolute mean error.\n",
    "print(f\"The mean absolute error is: {mean_absolute_error(y_test,y_pred): .4f}\")"
   ]
  },
  {
   "cell_type": "code",
   "execution_count": 11,
   "id": "552ee0fb",
   "metadata": {},
   "outputs": [],
   "source": [
    "# Pickle dump the model to be used elsewhere in the future, if need be.\n",
    "pickle.dump(pipe, open('pipe_first_innings.pkl', 'wb'))"
   ]
  },
  {
   "cell_type": "markdown",
   "id": "2182283a",
   "metadata": {},
   "source": [
    "## 2. 2nd Innings"
   ]
  },
  {
   "cell_type": "code",
   "execution_count": 3,
   "id": "bddef705",
   "metadata": {
    "scrolled": true
   },
   "outputs": [],
   "source": [
    "# load the final DataFrame from dataset exported under feature_extraction\n",
    "final_df2 = pickle.load(open('dataset_level3_second_innings.pkl', 'rb'))"
   ]
  },
  {
   "cell_type": "code",
   "execution_count": 4,
   "id": "51a971b4",
   "metadata": {
    "scrolled": true
   },
   "outputs": [
    {
     "data": {
      "text/html": [
       "<div>\n",
       "<style scoped>\n",
       "    .dataframe tbody tr th:only-of-type {\n",
       "        vertical-align: middle;\n",
       "    }\n",
       "\n",
       "    .dataframe tbody tr th {\n",
       "        vertical-align: top;\n",
       "    }\n",
       "\n",
       "    .dataframe thead th {\n",
       "        text-align: right;\n",
       "    }\n",
       "</style>\n",
       "<table border=\"1\" class=\"dataframe\">\n",
       "  <thead>\n",
       "    <tr style=\"text-align: right;\">\n",
       "      <th></th>\n",
       "      <th>batting_team</th>\n",
       "      <th>bowling_team</th>\n",
       "      <th>city</th>\n",
       "      <th>current_score</th>\n",
       "      <th>balls_left</th>\n",
       "      <th>wickets_left</th>\n",
       "      <th>crr</th>\n",
       "      <th>last_five</th>\n",
       "      <th>target_score</th>\n",
       "      <th>winner</th>\n",
       "    </tr>\n",
       "  </thead>\n",
       "  <tbody>\n",
       "    <tr>\n",
       "      <th>19950</th>\n",
       "      <td>Bangladesh</td>\n",
       "      <td>Afghanistan</td>\n",
       "      <td>Dhaka</td>\n",
       "      <td>116</td>\n",
       "      <td>14</td>\n",
       "      <td>3</td>\n",
       "      <td>6.566038</td>\n",
       "      <td>28.0</td>\n",
       "      <td>164.0</td>\n",
       "      <td>0</td>\n",
       "    </tr>\n",
       "    <tr>\n",
       "      <th>32088</th>\n",
       "      <td>Ireland</td>\n",
       "      <td>Sri Lanka</td>\n",
       "      <td>London</td>\n",
       "      <td>127</td>\n",
       "      <td>5</td>\n",
       "      <td>4</td>\n",
       "      <td>6.626087</td>\n",
       "      <td>38.0</td>\n",
       "      <td>144.0</td>\n",
       "      <td>0</td>\n",
       "    </tr>\n",
       "    <tr>\n",
       "      <th>6232</th>\n",
       "      <td>New Zealand</td>\n",
       "      <td>India</td>\n",
       "      <td>Delhi</td>\n",
       "      <td>35</td>\n",
       "      <td>81</td>\n",
       "      <td>8</td>\n",
       "      <td>5.384615</td>\n",
       "      <td>28.0</td>\n",
       "      <td>202.0</td>\n",
       "      <td>0</td>\n",
       "    </tr>\n",
       "    <tr>\n",
       "      <th>49128</th>\n",
       "      <td>India</td>\n",
       "      <td>New Zealand</td>\n",
       "      <td>Chennai</td>\n",
       "      <td>92</td>\n",
       "      <td>53</td>\n",
       "      <td>8</td>\n",
       "      <td>8.238806</td>\n",
       "      <td>41.0</td>\n",
       "      <td>167.0</td>\n",
       "      <td>0</td>\n",
       "    </tr>\n",
       "    <tr>\n",
       "      <th>31408</th>\n",
       "      <td>Ireland</td>\n",
       "      <td>New Zealand</td>\n",
       "      <td>Nottingham</td>\n",
       "      <td>109</td>\n",
       "      <td>29</td>\n",
       "      <td>2</td>\n",
       "      <td>7.186813</td>\n",
       "      <td>42.0</td>\n",
       "      <td>198.0</td>\n",
       "      <td>0</td>\n",
       "    </tr>\n",
       "    <tr>\n",
       "      <th>...</th>\n",
       "      <td>...</td>\n",
       "      <td>...</td>\n",
       "      <td>...</td>\n",
       "      <td>...</td>\n",
       "      <td>...</td>\n",
       "      <td>...</td>\n",
       "      <td>...</td>\n",
       "      <td>...</td>\n",
       "      <td>...</td>\n",
       "      <td>...</td>\n",
       "    </tr>\n",
       "    <tr>\n",
       "      <th>56964</th>\n",
       "      <td>New Zealand</td>\n",
       "      <td>Sri Lanka</td>\n",
       "      <td>Chittagong</td>\n",
       "      <td>33</td>\n",
       "      <td>61</td>\n",
       "      <td>4</td>\n",
       "      <td>3.355932</td>\n",
       "      <td>14.0</td>\n",
       "      <td>119.0</td>\n",
       "      <td>0</td>\n",
       "    </tr>\n",
       "    <tr>\n",
       "      <th>47756</th>\n",
       "      <td>Bangladesh</td>\n",
       "      <td>Pakistan</td>\n",
       "      <td>Mirpur</td>\n",
       "      <td>15</td>\n",
       "      <td>87</td>\n",
       "      <td>7</td>\n",
       "      <td>2.727273</td>\n",
       "      <td>14.0</td>\n",
       "      <td>135.0</td>\n",
       "      <td>0</td>\n",
       "    </tr>\n",
       "    <tr>\n",
       "      <th>53620</th>\n",
       "      <td>South Africa</td>\n",
       "      <td>Pakistan</td>\n",
       "      <td>Dubai</td>\n",
       "      <td>45</td>\n",
       "      <td>79</td>\n",
       "      <td>9</td>\n",
       "      <td>6.585366</td>\n",
       "      <td>33.0</td>\n",
       "      <td>99.0</td>\n",
       "      <td>1</td>\n",
       "    </tr>\n",
       "    <tr>\n",
       "      <th>21114</th>\n",
       "      <td>Pakistan</td>\n",
       "      <td>Sri Lanka</td>\n",
       "      <td>Lahore</td>\n",
       "      <td>82</td>\n",
       "      <td>52</td>\n",
       "      <td>5</td>\n",
       "      <td>7.235294</td>\n",
       "      <td>37.0</td>\n",
       "      <td>182.0</td>\n",
       "      <td>0</td>\n",
       "    </tr>\n",
       "    <tr>\n",
       "      <th>856</th>\n",
       "      <td>Bangladesh</td>\n",
       "      <td>New Zealand</td>\n",
       "      <td>Mount Maunganui</td>\n",
       "      <td>64</td>\n",
       "      <td>77</td>\n",
       "      <td>7</td>\n",
       "      <td>8.930233</td>\n",
       "      <td>41.0</td>\n",
       "      <td>195.0</td>\n",
       "      <td>0</td>\n",
       "    </tr>\n",
       "  </tbody>\n",
       "</table>\n",
       "<p>50194 rows × 10 columns</p>\n",
       "</div>"
      ],
      "text/plain": [
       "       batting_team bowling_team             city  current_score  balls_left  \\\n",
       "19950    Bangladesh  Afghanistan            Dhaka            116          14   \n",
       "32088       Ireland    Sri Lanka           London            127           5   \n",
       "6232    New Zealand        India            Delhi             35          81   \n",
       "49128         India  New Zealand          Chennai             92          53   \n",
       "31408       Ireland  New Zealand       Nottingham            109          29   \n",
       "...             ...          ...              ...            ...         ...   \n",
       "56964   New Zealand    Sri Lanka       Chittagong             33          61   \n",
       "47756    Bangladesh     Pakistan           Mirpur             15          87   \n",
       "53620  South Africa     Pakistan            Dubai             45          79   \n",
       "21114      Pakistan    Sri Lanka           Lahore             82          52   \n",
       "856      Bangladesh  New Zealand  Mount Maunganui             64          77   \n",
       "\n",
       "       wickets_left       crr  last_five  target_score  winner  \n",
       "19950             3  6.566038       28.0         164.0       0  \n",
       "32088             4  6.626087       38.0         144.0       0  \n",
       "6232              8  5.384615       28.0         202.0       0  \n",
       "49128             8  8.238806       41.0         167.0       0  \n",
       "31408             2  7.186813       42.0         198.0       0  \n",
       "...             ...       ...        ...           ...     ...  \n",
       "56964             4  3.355932       14.0         119.0       0  \n",
       "47756             7  2.727273       14.0         135.0       0  \n",
       "53620             9  6.585366       33.0          99.0       1  \n",
       "21114             5  7.235294       37.0         182.0       0  \n",
       "856               7  8.930233       41.0         195.0       0  \n",
       "\n",
       "[50194 rows x 10 columns]"
      ]
     },
     "execution_count": 4,
     "metadata": {},
     "output_type": "execute_result"
    }
   ],
   "source": [
    "final_df2"
   ]
  },
  {
   "cell_type": "code",
   "execution_count": 5,
   "id": "54f3ad0a",
   "metadata": {},
   "outputs": [],
   "source": [
    "# Split the dataset into training and testing data.\n",
    "# Extract the input.\n",
    "X = final_df2.drop(columns = ['winner'])\n",
    "# Extract the output.\n",
    "y = final_df2['winner']\n",
    "from sklearn.model_selection import train_test_split\n",
    "X_train, X_test, y_train, y_test = train_test_split(X,y,test_size=0.2,random_state=1)"
   ]
  },
  {
   "cell_type": "code",
   "execution_count": 6,
   "id": "5ea08862",
   "metadata": {},
   "outputs": [],
   "source": [
    "# Import the necessary classes and libraries to deploy the model and test it.\n",
    "from sklearn.compose import ColumnTransformer\n",
    "from sklearn.preprocessing import OneHotEncoder\n",
    "from sklearn.pipeline import Pipeline\n",
    "from sklearn.preprocessing import StandardScaler\n",
    "from sklearn.ensemble import RandomForestClassifier\n",
    "from sklearn.metrics import accuracy_score\n",
    "from sklearn.metrics import precision_score"
   ]
  },
  {
   "cell_type": "code",
   "execution_count": 7,
   "id": "73803718",
   "metadata": {},
   "outputs": [],
   "source": [
    "# The next step is to create a column transformer for the columns with categorical values.\n",
    "# We will be subjecting all three columns to the same transformation - OneHotEncoder.\n",
    "# The other columns are left untouched.\n",
    "trf = ColumnTransformer([\n",
    "    ('trf',OneHotEncoder(sparse_output = False,drop = 'first'),['batting_team', 'bowling_team', 'city'])\n",
    "], remainder = 'passthrough')"
   ]
  },
  {
   "cell_type": "code",
   "execution_count": 8,
   "id": "35c9083b",
   "metadata": {},
   "outputs": [],
   "source": [
    "# We define the pipeline\n",
    "# First step is to apply the transformer defined above to hot encode the categorical values.\n",
    "# Second step is to normalize the feature values - ensures all features are on a similar scale.\n",
    "# Third Step is to train a model.\n",
    "pipe = Pipeline(steps = [\n",
    "    ('step1', trf),\n",
    "    ('step2', StandardScaler()),\n",
    "    ('step3', RandomForestClassifier())\n",
    "])"
   ]
  },
  {
   "cell_type": "code",
   "execution_count": 9,
   "id": "a7859957",
   "metadata": {},
   "outputs": [
    {
     "name": "stdout",
     "output_type": "stream",
     "text": [
      "The Accuracy Score for the model is:  0.9996\n",
      "The Precision Score for the model is:  0.9998\n"
     ]
    }
   ],
   "source": [
    "# We train the pipeline define above using our X and y train dataset.\n",
    "# X captures the input, and y has the target variable.\n",
    "pipe.fit(X_train, y_train)\n",
    "# Now we use the trained model to make predictions on the test dataset.\n",
    "y_prob_pred = pipe.predict_proba(X_test)\n",
    "y_pred = pipe.predict(X_test)\n",
    "# Print the Accuracy of the predictions.\n",
    "print(f\"The Accuracy Score for the model is: {accuracy_score(y_test, y_pred): .4f}\")\n",
    "print(f\"The Precision Score for the model is: {precision_score(y_test, y_pred): .4f}\")"
   ]
  },
  {
   "cell_type": "markdown",
   "id": "1f853846",
   "metadata": {},
   "source": [
    "A(0.8090) and P(0.7982) for Log Reg (default)\n",
    "A(0.9636) and P(0.9549) for XGBClassifier (logloss)\n",
    "A(0.9977) and P(0.9963) for Random Forest Classifier (default)"
   ]
  },
  {
   "cell_type": "code",
   "execution_count": 10,
   "id": "04cd4118",
   "metadata": {},
   "outputs": [
    {
     "data": {
      "text/plain": [
       "array([[1.  , 0.  ],\n",
       "       [0.02, 0.98],\n",
       "       [1.  , 0.  ],\n",
       "       ...,\n",
       "       [0.04, 0.96],\n",
       "       [1.  , 0.  ],\n",
       "       [0.99, 0.01]])"
      ]
     },
     "execution_count": 10,
     "metadata": {},
     "output_type": "execute_result"
    }
   ],
   "source": [
    "y_prob_pred"
   ]
  },
  {
   "cell_type": "code",
   "execution_count": 11,
   "id": "e1fecc15",
   "metadata": {},
   "outputs": [
    {
     "data": {
      "text/plain": [
       "array([0, 1, 0, ..., 1, 0, 0])"
      ]
     },
     "execution_count": 11,
     "metadata": {},
     "output_type": "execute_result"
    }
   ],
   "source": [
    "y_pred"
   ]
  },
  {
   "cell_type": "code",
   "execution_count": 12,
   "id": "c448a947",
   "metadata": {},
   "outputs": [],
   "source": [
    "# Pickle dump the pipeline.\n",
    "pickle.dump(pipe, open('pipe_second_innings.pkl', 'wb'))"
   ]
  }
 ],
 "metadata": {
  "kernelspec": {
   "display_name": "Python 3 (ipykernel)",
   "language": "python",
   "name": "python3"
  },
  "language_info": {
   "codemirror_mode": {
    "name": "ipython",
    "version": 3
   },
   "file_extension": ".py",
   "mimetype": "text/x-python",
   "name": "python",
   "nbconvert_exporter": "python",
   "pygments_lexer": "ipython3",
   "version": "3.11.9"
  }
 },
 "nbformat": 4,
 "nbformat_minor": 5
}
