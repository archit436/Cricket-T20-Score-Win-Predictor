{
 "cells": [
  {
   "cell_type": "markdown",
   "id": "c5019213",
   "metadata": {},
   "source": [
    "The purpose of the code in this notebook is to take the data stored in yaml files from our Kaggle Dataset, and convert it to a format appropriate for our model developement."
   ]
  },
  {
   "cell_type": "code",
   "execution_count": 22,
   "id": "8a661d3f",
   "metadata": {},
   "outputs": [],
   "source": [
    "# Start by importing the necessary libraries.\n",
    "import numpy as np\n",
    "import pandas as pd\n",
    "from yaml import safe_load\n",
    "import os\n",
    "from tqdm import tqdm\n",
    "\n",
    "# safe_load will allow us to parse a YAML string and convert it into a python object.\n",
    "# YAML is a data serialization standard used generally in an exchange b/w diff languages.\n",
    "# tqdm is used to create progress bars for loops."
   ]
  },
  {
   "cell_type": "markdown",
   "id": "1c390e1a",
   "metadata": {},
   "source": [
    "We will be using data from the following Kaggle dataset: https://www.kaggle.com/datasets/veeralakrishna/cricsheet-a-retrosheet-for-cricket. In this dataset, we will look at the data of T20 matches, which has data for 1,433 matches."
   ]
  },
  {
   "cell_type": "code",
   "execution_count": 23,
   "id": "d94f038e",
   "metadata": {},
   "outputs": [],
   "source": [
    "# Extract the path of all the YAML files in the data. \n",
    "# There are 1433 YAML files with each file corresponding to a T20 match.\n",
    "filenames = []\n",
    "for file in os.listdir('data'):\n",
    "    filenames.append(os.path.join('data', file))"
   ]
  },
  {
   "cell_type": "code",
   "execution_count": null,
   "id": "0b7a01a2",
   "metadata": {},
   "outputs": [
    {
     "name": "stderr",
     "output_type": "stream",
     "text": [
      " 32%|█████████████████▊                                      | 457/1433 [01:16<02:41,  6.03it/s]"
     ]
    }
   ],
   "source": [
    "# Transfer the contents from each YAML file to a pandas DataFrame.\n",
    "main_df = pd.DataFrame()\n",
    "# Declare a variable to assign a unique match ID to each file's data.\n",
    "matchIdx = 1\n",
    "# Iterate over all the files.\n",
    "for file in tqdm(filenames):\n",
    "    with open(file, 'r') as f:\n",
    "        # For each file, we open it, load the contents and normalize into a DF\n",
    "        # Then, we add a column with our generated match id and append to the main DataFrame.\n",
    "        df = pd.json_normalize(safe_load(f))\n",
    "        df['match_id'] = matchIdx\n",
    "        main_df = pd.concat([main_df, df])\n",
    "        matchIdx += 1"
   ]
  },
  {
   "cell_type": "code",
   "execution_count": null,
   "id": "f26ac6b8",
   "metadata": {},
   "outputs": [],
   "source": [
    "# We create a copy of the dataframe for backup\n",
    "backup = main_df.copy()"
   ]
  },
  {
   "cell_type": "code",
   "execution_count": null,
   "id": "5ed47300",
   "metadata": {
    "scrolled": false
   },
   "outputs": [],
   "source": [
    "# Discard the data features that are not required for our model developement.\n",
    "main_df.drop(columns = [\n",
    "    'meta.data_version',\n",
    "    'meta.created',\n",
    "    'meta.revision',\n",
    "    'info.outcome.bowl_out',\n",
    "    'info.bowl_out',\n",
    "    'info.supersubs.South Africa',\n",
    "    'info.supersubs.New Zealand',\n",
    "    'info.outcome.eliminator',\n",
    "    'info.outcome.result',\n",
    "    'info.outcome.method',\n",
    "    'info.neutral_venue',\n",
    "    'info.match_type_number',\n",
    "    'info.outcome.by.runs',\n",
    "    'info.outcome.by.wickets',\n",
    "], inplace = True)"
   ]
  },
  {
   "cell_type": "code",
   "execution_count": null,
   "id": "fb893f90",
   "metadata": {},
   "outputs": [],
   "source": [
    "main_df.shape"
   ]
  },
  {
   "cell_type": "code",
   "execution_count": null,
   "id": "ddeebf9d",
   "metadata": {
    "scrolled": true
   },
   "outputs": [],
   "source": [
    "main_df['info.gender'].value_counts()"
   ]
  },
  {
   "cell_type": "code",
   "execution_count": null,
   "id": "db5c1857",
   "metadata": {
    "scrolled": false
   },
   "outputs": [],
   "source": [
    "# Filter and segregate the data pertaining to men's T20 cricket matches.\n",
    "main_df = main_df.loc[main_df['info.gender'] == 'male']\n",
    "# Remove gender column from data, since it is the same value for all entries.\n",
    "main_df.drop(columns = ['info.gender'], inplace = True)\n",
    "main_df.shape"
   ]
  },
  {
   "cell_type": "code",
   "execution_count": null,
   "id": "8f498808",
   "metadata": {},
   "outputs": [],
   "source": [
    "# Check to ensure all the data entries pertain to T20 matches.\n",
    "main_df['info.match_type'].value_counts()"
   ]
  },
  {
   "cell_type": "code",
   "execution_count": null,
   "id": "1665695e",
   "metadata": {},
   "outputs": [],
   "source": [
    "# Check to ensure all the data entries pertain to 20 over matches.\n",
    "main_df['info.overs'].value_counts()"
   ]
  },
  {
   "cell_type": "code",
   "execution_count": null,
   "id": "38f3cac5",
   "metadata": {},
   "outputs": [],
   "source": [
    "# Filter the data to only include data from 20 over matches.\n",
    "main_df = main_df.loc[main_df['info.overs'] == 20]\n",
    "# Also, remove the columns of overs and match type since the value is the same for all entries.\n",
    "main_df.drop(columns = ['info.overs','info.match_type'], inplace = True)\n",
    "main_df.shape"
   ]
  }
 ],
 "metadata": {
  "kernelspec": {
   "display_name": "Python 3 (ipykernel)",
   "language": "python",
   "name": "python3"
  },
  "language_info": {
   "codemirror_mode": {
    "name": "ipython",
    "version": 3
   },
   "file_extension": ".py",
   "mimetype": "text/x-python",
   "name": "python",
   "nbconvert_exporter": "python",
   "pygments_lexer": "ipython3",
   "version": "3.11.9"
  }
 },
 "nbformat": 4,
 "nbformat_minor": 5
}
