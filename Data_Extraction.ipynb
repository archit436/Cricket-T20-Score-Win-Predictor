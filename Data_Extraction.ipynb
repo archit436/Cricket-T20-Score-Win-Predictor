{
 "cells": [
  {
   "cell_type": "markdown",
   "id": "c5019213",
   "metadata": {},
   "source": [
    "The purpose of the code in this notebook is to take the data stored in yaml files from our Kaggle Dataset, and convert it to a format appropriate for our model developement."
   ]
  },
  {
   "cell_type": "code",
   "execution_count": 22,
   "id": "8a661d3f",
   "metadata": {},
   "outputs": [],
   "source": [
    "# Start by importing the necessary libraries.\n",
    "import numpy as np\n",
    "import pandas as pd\n",
    "from yaml import safe_load\n",
    "import os\n",
    "from tqdm import tqdm\n",
    "\n",
    "# safe_load will allow us to parse a YAML string and convert it into a python object.\n",
    "# YAML is a data serialization standard used generally in an exchange b/w diff languages.\n",
    "# tqdm is used to create progress bars for loops."
   ]
  },
  {
   "cell_type": "markdown",
   "id": "1c390e1a",
   "metadata": {},
   "source": [
    "We will be using data from the following Kaggle dataset: https://www.kaggle.com/datasets/veeralakrishna/cricsheet-a-retrosheet-for-cricket. In this dataset, we will look at the data of T20 matches, which has data for 1,433 matches."
   ]
  },
  {
   "cell_type": "code",
   "execution_count": 23,
   "id": "d94f038e",
   "metadata": {},
   "outputs": [],
   "source": [
    "# Extract the path of all the YAML files in the data. \n",
    "# There are 1433 YAML files with each file corresponding to a T20 match.\n",
    "filenames = []\n",
    "for file in os.listdir('data'):\n",
    "    filenames.append(os.path.join('data', file))"
   ]
  },
  {
   "cell_type": "code",
   "execution_count": 24,
   "id": "0b7a01a2",
   "metadata": {
    "collapsed": true
   },
   "outputs": [
    {
     "name": "stderr",
     "output_type": "stream",
     "text": [
      "100%|██████████████████████████████████████████████████████▉| 1432/1433 [04:04<00:00,  5.85it/s]\n"
     ]
    },
    {
     "ename": "NotImplementedError",
     "evalue": "",
     "output_type": "error",
     "traceback": [
      "\u001b[1;31m---------------------------------------------------------------------------\u001b[0m",
      "\u001b[1;31mNotImplementedError\u001b[0m                       Traceback (most recent call last)",
      "Cell \u001b[1;32mIn[24], line 10\u001b[0m\n\u001b[0;32m      6\u001b[0m \u001b[38;5;28;01mfor\u001b[39;00m file \u001b[38;5;129;01min\u001b[39;00m tqdm(filenames):\n\u001b[0;32m      7\u001b[0m     \u001b[38;5;28;01mwith\u001b[39;00m \u001b[38;5;28mopen\u001b[39m(file, \u001b[38;5;124m'\u001b[39m\u001b[38;5;124mr\u001b[39m\u001b[38;5;124m'\u001b[39m) \u001b[38;5;28;01mas\u001b[39;00m f:\n\u001b[0;32m      8\u001b[0m         \u001b[38;5;66;03m# For each file, we open it, load the contents and normalize into a DF\u001b[39;00m\n\u001b[0;32m      9\u001b[0m         \u001b[38;5;66;03m# Then, we add a column with our generated match id and append to the main DataFrame.\u001b[39;00m\n\u001b[1;32m---> 10\u001b[0m         df \u001b[38;5;241m=\u001b[39m \u001b[43mpd\u001b[49m\u001b[38;5;241;43m.\u001b[39;49m\u001b[43mjson_normalize\u001b[49m\u001b[43m(\u001b[49m\u001b[43msafe_load\u001b[49m\u001b[43m(\u001b[49m\u001b[43mf\u001b[49m\u001b[43m)\u001b[49m\u001b[43m)\u001b[49m\n\u001b[0;32m     11\u001b[0m         df[\u001b[38;5;124m'\u001b[39m\u001b[38;5;124mmatch_id\u001b[39m\u001b[38;5;124m'\u001b[39m] \u001b[38;5;241m=\u001b[39m matchIdx\n\u001b[0;32m     12\u001b[0m         main_df \u001b[38;5;241m=\u001b[39m pd\u001b[38;5;241m.\u001b[39mconcat([main_df, df])\n",
      "File \u001b[1;32m~\\anaconda3\\envs\\mlGeneral_env\\Lib\\site-packages\\pandas\\io\\json\\_normalize.py:445\u001b[0m, in \u001b[0;36mjson_normalize\u001b[1;34m(data, record_path, meta, meta_prefix, record_prefix, errors, sep, max_level)\u001b[0m\n\u001b[0;32m    443\u001b[0m     data \u001b[38;5;241m=\u001b[39m \u001b[38;5;28mlist\u001b[39m(data)\n\u001b[0;32m    444\u001b[0m \u001b[38;5;28;01melse\u001b[39;00m:\n\u001b[1;32m--> 445\u001b[0m     \u001b[38;5;28;01mraise\u001b[39;00m \u001b[38;5;167;01mNotImplementedError\u001b[39;00m\n\u001b[0;32m    447\u001b[0m \u001b[38;5;66;03m# check to see if a simple recursive function is possible to\u001b[39;00m\n\u001b[0;32m    448\u001b[0m \u001b[38;5;66;03m# improve performance (see #15621) but only for cases such\u001b[39;00m\n\u001b[0;32m    449\u001b[0m \u001b[38;5;66;03m# as pd.Dataframe(data) or pd.Dataframe(data, sep)\u001b[39;00m\n\u001b[0;32m    450\u001b[0m \u001b[38;5;28;01mif\u001b[39;00m (\n\u001b[0;32m    451\u001b[0m     record_path \u001b[38;5;129;01mis\u001b[39;00m \u001b[38;5;28;01mNone\u001b[39;00m\n\u001b[0;32m    452\u001b[0m     \u001b[38;5;129;01mand\u001b[39;00m meta \u001b[38;5;129;01mis\u001b[39;00m \u001b[38;5;28;01mNone\u001b[39;00m\n\u001b[1;32m   (...)\u001b[0m\n\u001b[0;32m    455\u001b[0m     \u001b[38;5;129;01mand\u001b[39;00m max_level \u001b[38;5;129;01mis\u001b[39;00m \u001b[38;5;28;01mNone\u001b[39;00m\n\u001b[0;32m    456\u001b[0m ):\n",
      "\u001b[1;31mNotImplementedError\u001b[0m: "
     ]
    }
   ],
   "source": [
    "# Transfer the contents from each YAML file to a pandas DataFrame.\n",
    "main_df = pd.DataFrame()\n",
    "# Declare a variable to assign a unique match ID to each file's data.\n",
    "matchIdx = 1\n",
    "# Iterate over all the files.\n",
    "for file in tqdm(filenames):\n",
    "    with open(file, 'r') as f:\n",
    "        # For each file, we open it, load the contents and normalize into a DF\n",
    "        # Then, we add a column with our generated match id and append to the main DataFrame.\n",
    "        df = pd.json_normalize(safe_load(f))\n",
    "        df['match_id'] = matchIdx\n",
    "        main_df = pd.concat([main_df, df])\n",
    "        matchIdx += 1"
   ]
  },
  {
   "cell_type": "code",
   "execution_count": 25,
   "id": "f26ac6b8",
   "metadata": {},
   "outputs": [],
   "source": [
    "# We create a copy of the dataframe for backup\n",
    "backup = main_df.copy()"
   ]
  },
  {
   "cell_type": "code",
   "execution_count": 26,
   "id": "5ed47300",
   "metadata": {
    "scrolled": false
   },
   "outputs": [],
   "source": [
    "# Discard the data features that are not required for our model developement.\n",
    "main_df.drop(columns = [\n",
    "    'meta.data_version',\n",
    "    'meta.created',\n",
    "    'meta.revision',\n",
    "    'info.outcome.bowl_out',\n",
    "    'info.bowl_out',\n",
    "    'info.supersubs.South Africa',\n",
    "    'info.supersubs.New Zealand',\n",
    "    'info.outcome.eliminator',\n",
    "    'info.outcome.result',\n",
    "    'info.outcome.method',\n",
    "    'info.neutral_venue',\n",
    "    'info.match_type_number',\n",
    "    'info.outcome.by.runs',\n",
    "    'info.outcome.by.wickets',\n",
    "], inplace = True)"
   ]
  },
  {
   "cell_type": "code",
   "execution_count": 27,
   "id": "fb893f90",
   "metadata": {},
   "outputs": [
    {
     "data": {
      "text/plain": [
       "(1432, 14)"
      ]
     },
     "execution_count": 27,
     "metadata": {},
     "output_type": "execute_result"
    }
   ],
   "source": [
    "main_df.shape"
   ]
  },
  {
   "cell_type": "code",
   "execution_count": 28,
   "id": "ddeebf9d",
   "metadata": {
    "scrolled": true
   },
   "outputs": [
    {
     "data": {
      "text/plain": [
       "info.gender\n",
       "male      966\n",
       "female    466\n",
       "Name: count, dtype: int64"
      ]
     },
     "execution_count": 28,
     "metadata": {},
     "output_type": "execute_result"
    }
   ],
   "source": [
    "main_df['info.gender'].value_counts()"
   ]
  },
  {
   "cell_type": "code",
   "execution_count": 29,
   "id": "db5c1857",
   "metadata": {
    "scrolled": false
   },
   "outputs": [
    {
     "data": {
      "text/plain": [
       "(966, 13)"
      ]
     },
     "execution_count": 29,
     "metadata": {},
     "output_type": "execute_result"
    }
   ],
   "source": [
    "# Filter and segregate the data pertaining to men's T20 cricket matches.\n",
    "main_df = main_df.loc[main_df['info.gender'] == 'male']\n",
    "# Remove gender column from data, since it is the same value for all entries.\n",
    "main_df.drop(columns = ['info.gender'], inplace = True)\n",
    "main_df.shape"
   ]
  },
  {
   "cell_type": "code",
   "execution_count": 30,
   "id": "8f498808",
   "metadata": {},
   "outputs": [
    {
     "data": {
      "text/plain": [
       "info.match_type\n",
       "T20    966\n",
       "Name: count, dtype: int64"
      ]
     },
     "execution_count": 30,
     "metadata": {},
     "output_type": "execute_result"
    }
   ],
   "source": [
    "# Check to ensure all the data entries pertain to T20 matches.\n",
    "main_df['info.match_type'].value_counts()"
   ]
  },
  {
   "cell_type": "code",
   "execution_count": 31,
   "id": "1665695e",
   "metadata": {},
   "outputs": [
    {
     "data": {
      "text/plain": [
       "info.overs\n",
       "20    963\n",
       "50      3\n",
       "Name: count, dtype: int64"
      ]
     },
     "execution_count": 31,
     "metadata": {},
     "output_type": "execute_result"
    }
   ],
   "source": [
    "# Check to ensure all the data entries pertain to 20 over matches.\n",
    "main_df['info.overs'].value_counts()"
   ]
  },
  {
   "cell_type": "code",
   "execution_count": 32,
   "id": "38f3cac5",
   "metadata": {},
   "outputs": [
    {
     "data": {
      "text/plain": [
       "(963, 11)"
      ]
     },
     "execution_count": 32,
     "metadata": {},
     "output_type": "execute_result"
    }
   ],
   "source": [
    "# Filter the data to only include data from 20 over matches.\n",
    "main_df = main_df.loc[main_df['info.overs'] == 20]\n",
    "# Also, remove the columns of overs and match type since the value is the same for all entries.\n",
    "main_df.drop(columns = ['info.overs','info.match_type'], inplace = True)\n",
    "main_df.shape"
   ]
  }
 ],
 "metadata": {
  "kernelspec": {
   "display_name": "Python 3 (ipykernel)",
   "language": "python",
   "name": "python3"
  },
  "language_info": {
   "codemirror_mode": {
    "name": "ipython",
    "version": 3
   },
   "file_extension": ".py",
   "mimetype": "text/x-python",
   "name": "python",
   "nbconvert_exporter": "python",
   "pygments_lexer": "ipython3",
   "version": "3.11.9"
  }
 },
 "nbformat": 4,
 "nbformat_minor": 5
}
